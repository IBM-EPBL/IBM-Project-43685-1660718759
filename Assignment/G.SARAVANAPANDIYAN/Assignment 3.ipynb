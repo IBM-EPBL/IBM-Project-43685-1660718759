{
 "cells": [
  {
   "cell_type": "markdown",
   "id": "4d8eb23d",
   "metadata": {
    "id": "fwU2iooz85jt"
   },
   "source": [
    "# Assignmen 3\n",
    "\n"
   ]
  },
  {
   "cell_type": "markdown",
   "id": "226b7287",
   "metadata": {},
   "source": [
    "# Exercises\n",
    "Answer the questions or complete the tasks outlined in bold below, use the specific method described if applicable."
   ]
  },
  {
   "cell_type": "markdown",
   "id": "26b34f64",
   "metadata": {},
   "source": [
    "** What is 7 to the power of 4?**"
   ]
  },
  {
   "cell_type": "code",
   "execution_count": 1,
   "id": "f5b59369",
   "metadata": {},
   "outputs": [
    {
     "data": {
      "text/plain": [
       "2401"
      ]
     },
     "execution_count": 1,
     "metadata": {},
     "output_type": "execute_result"
    }
   ],
   "source": [
    "7**4"
   ]
  },
  {
   "cell_type": "markdown",
   "id": "2a8b48e0",
   "metadata": {},
   "source": [
    "** Split this string:**\n",
    "\n",
    "s = \"Hi there Sam!\"\n",
    "*into a list. *"
   ]
  },
  {
   "cell_type": "code",
   "execution_count": 2,
   "id": "712fc844",
   "metadata": {},
   "outputs": [
    {
     "name": "stdout",
     "output_type": "stream",
     "text": [
      "['Hi', 'there', 'Sam!']\n"
     ]
    }
   ],
   "source": [
    "s = \"Hi there Sam!\"\n",
    "a=list(s.split(\" \"))\n",
    "print(a)"
   ]
  },
  {
   "cell_type": "markdown",
   "id": "95448d47",
   "metadata": {},
   "source": [
    "** Given the variables:**\n",
    "\n",
    "planet = \"Earth\"\n",
    "diameter = 12742\n",
    "** Use .format() to print the following string: **\n",
    "\n",
    "The diameter of Earth is 12742 kilometers."
   ]
  },
  {
   "cell_type": "code",
   "execution_count": 3,
   "id": "999ae5f9",
   "metadata": {},
   "outputs": [
    {
     "name": "stdout",
     "output_type": "stream",
     "text": [
      "The diameter of Earth is 12742 kilometers\n"
     ]
    }
   ],
   "source": [
    "planet = \"Earth\"\n",
    "diameter = 12742\n",
    "print(\"The diameter of {} is {} kilometers\".format(planet,diameter))"
   ]
  },
  {
   "cell_type": "markdown",
   "id": "732c28e2",
   "metadata": {},
   "source": [
    "** Given this nested list, use indexing to grab the word \"hello\" **"
   ]
  },
  {
   "cell_type": "code",
   "execution_count": 4,
   "id": "943dc55e",
   "metadata": {},
   "outputs": [
    {
     "name": "stdout",
     "output_type": "stream",
     "text": [
      "['hello']\n"
     ]
    }
   ],
   "source": [
    "lst = [1,2,[3,4],[5,[100,200,['hello']],23,11],1,7]\n",
    "print(lst[3][1][2])"
   ]
  },
  {
   "cell_type": "markdown",
   "id": "dcaff9e7",
   "metadata": {},
   "source": [
    "** Given this nest dictionary grab the word \"hello\". Be prepared, this will be annoying/tricky **"
   ]
  },
  {
   "cell_type": "code",
   "execution_count": 5,
   "id": "ec5cb994",
   "metadata": {},
   "outputs": [
    {
     "name": "stdout",
     "output_type": "stream",
     "text": [
      "hello\n"
     ]
    }
   ],
   "source": [
    "d = {'k1':[1,2,3,{'tricky':['oh','man','inception',{'target':[1,2,3,'hello']}]}]}\n",
    "print(d['k1'][3]['tricky'][3]['target'][3])"
   ]
  },
  {
   "cell_type": "markdown",
   "id": "1970cfb4",
   "metadata": {},
   "source": [
    "** What is the main difference between a tuple and a list? **"
   ]
  },
  {
   "cell_type": "code",
   "execution_count": null,
   "id": "4dbba7b8",
   "metadata": {},
   "outputs": [],
   "source": [
    "the main difference between tuple and list is that the tuple is immutable where as list is mutable."
   ]
  },
  {
   "cell_type": "markdown",
   "id": "11441a0f",
   "metadata": {},
   "source": [
    "** Create a function that grabs the email website domain from a string in the form: **\n",
    "\n",
    "user@domain.com\n",
    "So for example, passing \"user@domain.com\" would return: domain.com"
   ]
  },
  {
   "cell_type": "code",
   "execution_count": 6,
   "id": "feb9e0e6",
   "metadata": {},
   "outputs": [
    {
     "name": "stdout",
     "output_type": "stream",
     "text": [
      "domain.com\n"
     ]
    }
   ],
   "source": [
    "p=\"user@domain.com\"\n",
    "l=0\n",
    "for i in p:\n",
    "  if i=='@':\n",
    "    l=p.index(i)+1\n",
    "print(p[l::])"
   ]
  },
  {
   "cell_type": "markdown",
   "id": "5ec2ec8a",
   "metadata": {},
   "source": [
    "** Create a basic function that returns True if the word 'dog' is contained in the input string. Don't worry about edge cases like a punctuation being attached to the word dog, but do account for capitalization. **"
   ]
  },
  {
   "cell_type": "code",
   "execution_count": 7,
   "id": "c0c34907",
   "metadata": {},
   "outputs": [
    {
     "name": "stdout",
     "output_type": "stream",
     "text": [
      "True\n",
      "False\n"
     ]
    }
   ],
   "source": [
    "def check(str1):\n",
    "  str1.lower()\n",
    "  if \"dog\" in str1:\n",
    "    return True\n",
    "  else:\n",
    "    return False\n",
    "print(check(\"The phrase contains dog\"))\n",
    "print(check(\"The phrase contains cat\"))"
   ]
  },
  {
   "cell_type": "markdown",
   "id": "f30f157e",
   "metadata": {},
   "source": [
    "Create a function that counts the number of times the word \"dog\" occurs in a string. Again ignore edge cases."
   ]
  },
  {
   "cell_type": "code",
   "execution_count": null,
   "id": "b9331919",
   "metadata": {},
   "outputs": [],
   "source": [
    "def counter(str1):\n",
    "  a=str1.count(\"dog\")\n",
    "  return a\n",
    "print(counter(\"dog dog dog\"))\n",
    "print(counter(\"dog licks the bone and the dog loves to play with it\"))"
   ]
  },
  {
   "cell_type": "markdown",
   "id": "b3933393",
   "metadata": {},
   "source": [
    "Problem\n",
    "\n",
    "You are driving a little too fast, and a police officer stops you. Write a function to return one of 3 possible results: \"No ticket\", \"Small ticket\", or \"Big Ticket\". If your speed is 60 or less, the result is \"No Ticket\". If speed is between 61 and 80 inclusive, the result is \"Small Ticket\". If speed is 81 or more, the result is \"Big Ticket\". Unless it is your birthday (encoded as a boolean value in the parameters of the function) -- on your birthday, your speed can be 5 higher in all cases."
   ]
  },
  {
   "cell_type": "code",
   "execution_count": 6,
   "id": "85e8e87e",
   "metadata": {},
   "outputs": [
    {
     "data": {
      "text/plain": [
       "'Big Ticket'"
      ]
     },
     "execution_count": 6,
     "metadata": {},
     "output_type": "execute_result"
    }
   ],
   "source": [
    "def caught_speeding(speed, is_birthday):\n",
    "    \n",
    "    if is_birthday:\n",
    "        speeding = speed - 5\n",
    "    else:\n",
    "        speeding = speed\n",
    "    \n",
    "    if speeding > 80:\n",
    "        return 'Big Ticket'\n",
    "    elif speeding > 60:\n",
    "        return 'Small Ticket'\n",
    "    else:\n",
    "        return 'No Ticket'\n",
    "\n",
    "\n",
    "caught_speeding(90,1)"
   ]
  },
  {
   "cell_type": "code",
   "execution_count": 4,
   "id": "d7260f72",
   "metadata": {},
   "outputs": [
    {
     "data": {
      "text/plain": [
       "'Small Ticket'"
      ]
     },
     "execution_count": 4,
     "metadata": {},
     "output_type": "execute_result"
    }
   ],
   "source": [
    "caught_speeding(65,0)"
   ]
  },
  {
   "cell_type": "code",
   "execution_count": 5,
   "id": "eb53bbe9",
   "metadata": {},
   "outputs": [
    {
     "data": {
      "text/plain": [
       "'Big Ticket'"
      ]
     },
     "execution_count": 5,
     "metadata": {},
     "output_type": "execute_result"
    }
   ],
   "source": [
    "caught_speeding(90,1)"
   ]
  },
  {
   "cell_type": "markdown",
   "id": "71870251",
   "metadata": {},
   "source": [
    "Create an employee list with basic salary values(at least 5 values for 5 employees) and using a for loop retreive each employee salary and calculate total salary expenditure."
   ]
  },
  {
   "cell_type": "code",
   "execution_count": 9,
   "id": "bb69514b",
   "metadata": {},
   "outputs": [
    {
     "name": "stdout",
     "output_type": "stream",
     "text": [
      "the total salary is  6800\n"
     ]
    }
   ],
   "source": [
    "salary=[1200,1500,1800,1200,1100]\n",
    "sum=0\n",
    "for i in salary:\n",
    "  sum+=i\n",
    "print(\"the total salary is \",sum)"
   ]
  },
  {
   "cell_type": "markdown",
   "id": "84176f7b",
   "metadata": {},
   "source": [
    "Create two dictionaries in Python:\n",
    "\n",
    "First one to contain fields as Empid, Empname, Basicpay\n",
    "\n",
    "Second dictionary to contain fields as DeptName, DeptId.\n",
    "\n",
    "Combine both dictionaries."
   ]
  },
  {
   "cell_type": "code",
   "execution_count": 30,
   "id": "c980735b",
   "metadata": {},
   "outputs": [
    {
     "name": "stdout",
     "output_type": "stream",
     "text": [
      "{'Empid': 1, 'Empname': 'yuvaraj', 'Basicpay': 5000, 'DeptName': 'cse', 'Deptid': 104}\n"
     ]
    }
   ],
   "source": [
    "emp={\"Empid\":1,\"Empname\":\"yuvaraj\",\"Basicpay\":5000}\n",
    "dept={\"DeptName\":'cse',\"Deptid\":104}\n",
    "emp.update(dept)\n",
    "print(emp)"
   ]
  },
  {
   "cell_type": "code",
   "execution_count": null,
   "id": "f98ae582",
   "metadata": {},
   "outputs": [],
   "source": []
  }
 ],
 "metadata": {
  "kernelspec": {
   "display_name": "Python 3 (ipykernel)",
   "language": "python",
   "name": "python3"
  },
  "language_info": {
   "codemirror_mode": {
    "name": "ipython",
    "version": 3
   },
   "file_extension": ".py",
   "mimetype": "text/x-python",
   "name": "python",
   "nbconvert_exporter": "python",
   "pygments_lexer": "ipython3",
   "version": "3.9.13"
  }
 },
 "nbformat": 4,
 "nbformat_minor": 5
}
